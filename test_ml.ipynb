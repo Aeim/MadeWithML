{
  "nbformat": 4,
  "nbformat_minor": 0,
  "metadata": {
    "colab": {
      "provenance": [],
      "authorship_tag": "ABX9TyMsOWVAdTAXjzo5hLIynlPk",
      "include_colab_link": true
    },
    "kernelspec": {
      "name": "python3",
      "display_name": "Python 3"
    },
    "language_info": {
      "name": "python"
    }
  },
  "cells": [
    {
      "cell_type": "markdown",
      "metadata": {
        "id": "view-in-github",
        "colab_type": "text"
      },
      "source": [
        "<a href=\"https://colab.research.google.com/github/Aeim/MadeWithML/blob/main/test_ml.ipynb\" target=\"_parent\"><img src=\"https://colab.research.google.com/assets/colab-badge.svg\" alt=\"Open In Colab\"/></a>"
      ]
    },
    {
      "cell_type": "markdown",
      "source": [
        "# Testing ML"
      ],
      "metadata": {
        "id": "bBxAVxw782Bg"
      }
    },
    {
      "cell_type": "markdown",
      "source": [
        "## Data"
      ],
      "metadata": {
        "id": "rqASAsil8537"
      }
    },
    {
      "cell_type": "code",
      "execution_count": null,
      "metadata": {
        "id": "SNbsJ_gA7o06"
      },
      "outputs": [],
      "source": [
        "!pip install great-expectations==0.15.15"
      ]
    },
    {
      "cell_type": "code",
      "source": [
        "import great_expectations as ge\n",
        "import json\n",
        "import pandas as pd\n",
        "from urllib.request import urlopen"
      ],
      "metadata": {
        "id": "x8em8vTO9IuH"
      },
      "execution_count": 2,
      "outputs": []
    },
    {
      "cell_type": "code",
      "source": [
        "# Load labeled projects\n",
        "projects = pd.read_csv(\"https://raw.githubusercontent.com/GokuMohandas/Made-With-ML/main/datasets/projects.csv\")\n",
        "tags = pd.read_csv(\"https://raw.githubusercontent.com/GokuMohandas/Made-With-ML/main/datasets/tags.csv\")\n",
        "df = ge.dataset.PandasDataset(pd.merge(projects, tags, on=\"id\"))\n",
        "print(f\"{len(df)} projects\")\n",
        "df.head(5)"
      ],
      "metadata": {
        "colab": {
          "base_uri": "https://localhost:8080/",
          "height": 224
        },
        "id": "kRxXoB1t9YM6",
        "outputId": "761c4b26-f0a0-4e31-b3cc-e13eab8ce4aa"
      },
      "execution_count": 3,
      "outputs": [
        {
          "output_type": "stream",
          "name": "stdout",
          "text": [
            "955 projects\n"
          ]
        },
        {
          "output_type": "execute_result",
          "data": {
            "text/plain": [
              "   id           created_on                                              title  \\\n",
              "0   6  2020-02-20 06:43:18  Comparison between YOLO and RCNN on real world...   \n",
              "1   7  2020-02-20 06:47:21  Show, Infer & Tell: Contextual Inference for C...   \n",
              "2   9  2020-02-24 16:24:45                       Awesome Graph Classification   \n",
              "3  15  2020-02-28 23:55:26                    Awesome Monte Carlo Tree Search   \n",
              "4  19  2020-03-03 13:54:31                                Diffusion to Vector   \n",
              "\n",
              "                                         description                     tag  \n",
              "0  Bringing theory to experiment is cool. We can ...         computer-vision  \n",
              "1  The beauty of the work lies in the way it arch...         computer-vision  \n",
              "2  A collection of important graph embedding, cla...          graph-learning  \n",
              "3  A curated list of Monte Carlo tree search pape...  reinforcement-learning  \n",
              "4  Reference implementation of Diffusion2Vec (Com...          graph-learning  "
            ],
            "text/html": [
              "\n",
              "  <div id=\"df-5dbfdd22-c233-41f0-9cf0-b778d7af9ef1\">\n",
              "    <div class=\"colab-df-container\">\n",
              "      <div>\n",
              "<style scoped>\n",
              "    .dataframe tbody tr th:only-of-type {\n",
              "        vertical-align: middle;\n",
              "    }\n",
              "\n",
              "    .dataframe tbody tr th {\n",
              "        vertical-align: top;\n",
              "    }\n",
              "\n",
              "    .dataframe thead th {\n",
              "        text-align: right;\n",
              "    }\n",
              "</style>\n",
              "<table border=\"1\" class=\"dataframe\">\n",
              "  <thead>\n",
              "    <tr style=\"text-align: right;\">\n",
              "      <th></th>\n",
              "      <th>id</th>\n",
              "      <th>created_on</th>\n",
              "      <th>title</th>\n",
              "      <th>description</th>\n",
              "      <th>tag</th>\n",
              "    </tr>\n",
              "  </thead>\n",
              "  <tbody>\n",
              "    <tr>\n",
              "      <th>0</th>\n",
              "      <td>6</td>\n",
              "      <td>2020-02-20 06:43:18</td>\n",
              "      <td>Comparison between YOLO and RCNN on real world...</td>\n",
              "      <td>Bringing theory to experiment is cool. We can ...</td>\n",
              "      <td>computer-vision</td>\n",
              "    </tr>\n",
              "    <tr>\n",
              "      <th>1</th>\n",
              "      <td>7</td>\n",
              "      <td>2020-02-20 06:47:21</td>\n",
              "      <td>Show, Infer &amp; Tell: Contextual Inference for C...</td>\n",
              "      <td>The beauty of the work lies in the way it arch...</td>\n",
              "      <td>computer-vision</td>\n",
              "    </tr>\n",
              "    <tr>\n",
              "      <th>2</th>\n",
              "      <td>9</td>\n",
              "      <td>2020-02-24 16:24:45</td>\n",
              "      <td>Awesome Graph Classification</td>\n",
              "      <td>A collection of important graph embedding, cla...</td>\n",
              "      <td>graph-learning</td>\n",
              "    </tr>\n",
              "    <tr>\n",
              "      <th>3</th>\n",
              "      <td>15</td>\n",
              "      <td>2020-02-28 23:55:26</td>\n",
              "      <td>Awesome Monte Carlo Tree Search</td>\n",
              "      <td>A curated list of Monte Carlo tree search pape...</td>\n",
              "      <td>reinforcement-learning</td>\n",
              "    </tr>\n",
              "    <tr>\n",
              "      <th>4</th>\n",
              "      <td>19</td>\n",
              "      <td>2020-03-03 13:54:31</td>\n",
              "      <td>Diffusion to Vector</td>\n",
              "      <td>Reference implementation of Diffusion2Vec (Com...</td>\n",
              "      <td>graph-learning</td>\n",
              "    </tr>\n",
              "  </tbody>\n",
              "</table>\n",
              "</div>\n",
              "      <button class=\"colab-df-convert\" onclick=\"convertToInteractive('df-5dbfdd22-c233-41f0-9cf0-b778d7af9ef1')\"\n",
              "              title=\"Convert this dataframe to an interactive table.\"\n",
              "              style=\"display:none;\">\n",
              "        \n",
              "  <svg xmlns=\"http://www.w3.org/2000/svg\" height=\"24px\"viewBox=\"0 0 24 24\"\n",
              "       width=\"24px\">\n",
              "    <path d=\"M0 0h24v24H0V0z\" fill=\"none\"/>\n",
              "    <path d=\"M18.56 5.44l.94 2.06.94-2.06 2.06-.94-2.06-.94-.94-2.06-.94 2.06-2.06.94zm-11 1L8.5 8.5l.94-2.06 2.06-.94-2.06-.94L8.5 2.5l-.94 2.06-2.06.94zm10 10l.94 2.06.94-2.06 2.06-.94-2.06-.94-.94-2.06-.94 2.06-2.06.94z\"/><path d=\"M17.41 7.96l-1.37-1.37c-.4-.4-.92-.59-1.43-.59-.52 0-1.04.2-1.43.59L10.3 9.45l-7.72 7.72c-.78.78-.78 2.05 0 2.83L4 21.41c.39.39.9.59 1.41.59.51 0 1.02-.2 1.41-.59l7.78-7.78 2.81-2.81c.8-.78.8-2.07 0-2.86zM5.41 20L4 18.59l7.72-7.72 1.47 1.35L5.41 20z\"/>\n",
              "  </svg>\n",
              "      </button>\n",
              "      \n",
              "  <style>\n",
              "    .colab-df-container {\n",
              "      display:flex;\n",
              "      flex-wrap:wrap;\n",
              "      gap: 12px;\n",
              "    }\n",
              "\n",
              "    .colab-df-convert {\n",
              "      background-color: #E8F0FE;\n",
              "      border: none;\n",
              "      border-radius: 50%;\n",
              "      cursor: pointer;\n",
              "      display: none;\n",
              "      fill: #1967D2;\n",
              "      height: 32px;\n",
              "      padding: 0 0 0 0;\n",
              "      width: 32px;\n",
              "    }\n",
              "\n",
              "    .colab-df-convert:hover {\n",
              "      background-color: #E2EBFA;\n",
              "      box-shadow: 0px 1px 2px rgba(60, 64, 67, 0.3), 0px 1px 3px 1px rgba(60, 64, 67, 0.15);\n",
              "      fill: #174EA6;\n",
              "    }\n",
              "\n",
              "    [theme=dark] .colab-df-convert {\n",
              "      background-color: #3B4455;\n",
              "      fill: #D2E3FC;\n",
              "    }\n",
              "\n",
              "    [theme=dark] .colab-df-convert:hover {\n",
              "      background-color: #434B5C;\n",
              "      box-shadow: 0px 1px 3px 1px rgba(0, 0, 0, 0.15);\n",
              "      filter: drop-shadow(0px 1px 2px rgba(0, 0, 0, 0.3));\n",
              "      fill: #FFFFFF;\n",
              "    }\n",
              "  </style>\n",
              "\n",
              "      <script>\n",
              "        const buttonEl =\n",
              "          document.querySelector('#df-5dbfdd22-c233-41f0-9cf0-b778d7af9ef1 button.colab-df-convert');\n",
              "        buttonEl.style.display =\n",
              "          google.colab.kernel.accessAllowed ? 'block' : 'none';\n",
              "\n",
              "        async function convertToInteractive(key) {\n",
              "          const element = document.querySelector('#df-5dbfdd22-c233-41f0-9cf0-b778d7af9ef1');\n",
              "          const dataTable =\n",
              "            await google.colab.kernel.invokeFunction('convertToInteractive',\n",
              "                                                     [key], {});\n",
              "          if (!dataTable) return;\n",
              "\n",
              "          const docLinkHtml = 'Like what you see? Visit the ' +\n",
              "            '<a target=\"_blank\" href=https://colab.research.google.com/notebooks/data_table.ipynb>data table notebook</a>'\n",
              "            + ' to learn more about interactive tables.';\n",
              "          element.innerHTML = '';\n",
              "          dataTable['output_type'] = 'display_data';\n",
              "          await google.colab.output.renderOutput(dataTable, element);\n",
              "          const docLink = document.createElement('div');\n",
              "          docLink.innerHTML = docLinkHtml;\n",
              "          element.appendChild(docLink);\n",
              "        }\n",
              "      </script>\n",
              "    </div>\n",
              "  </div>\n",
              "  "
            ]
          },
          "metadata": {},
          "execution_count": 3
        }
      ]
    },
    {
      "cell_type": "markdown",
      "source": [
        "### Expectations"
      ],
      "metadata": {
        "id": "Nr2upTdL95Ar"
      }
    },
    {
      "cell_type": "code",
      "source": [
        "# Presence of specific features\n",
        "df.expect_table_columns_to_match_ordered_list(\n",
        "    column_list=[\"id\", \"created_on\", \"title\", \"description\", \"tag\"]\n",
        ")"
      ],
      "metadata": {
        "id": "VujP795K9z0J"
      },
      "execution_count": null,
      "outputs": []
    },
    {
      "cell_type": "code",
      "source": [
        "# Unique combinations of features (detect data leaks!)\n",
        "df.expect_compound_columns_to_be_unique(column_list=[\"title\", \"description\"])"
      ],
      "metadata": {
        "id": "AJTOzTPj-PaN"
      },
      "execution_count": null,
      "outputs": []
    },
    {
      "cell_type": "code",
      "source": [
        "# Missing values\n",
        "df.expect_column_values_to_not_be_null(column=\"tag\")"
      ],
      "metadata": {
        "id": "OIAIHFMy-cmg"
      },
      "execution_count": null,
      "outputs": []
    },
    {
      "cell_type": "code",
      "source": [
        "# Unique values\n",
        "df.expect_column_values_to_be_unique(column=\"id\")"
      ],
      "metadata": {
        "id": "tVqGDcrp-pfo"
      },
      "execution_count": null,
      "outputs": []
    },
    {
      "cell_type": "code",
      "source": [
        "# Type adherence\n",
        "df.expect_column_values_to_be_of_type(column=\"title\", type_=\"str\")"
      ],
      "metadata": {
        "id": "628LaX8_-xJp"
      },
      "execution_count": null,
      "outputs": []
    },
    {
      "cell_type": "code",
      "source": [
        "# List (categorical) / range (continuous) of allowed values\n",
        "tags = [\"computer-vision\", \"graph-learning\", \"reinforcement-learning\",\n",
        "        \"natural-language-processing\", \"mlops\", \"time-series\"]\n",
        "df.expect_column_values_to_be_in_set(column=\"tag\", value_set=tags)"
      ],
      "metadata": {
        "id": "UWH46g5P-5vI"
      },
      "execution_count": null,
      "outputs": []
    },
    {
      "cell_type": "markdown",
      "source": [
        "### Organization"
      ],
      "metadata": {
        "id": "kX26bE4oAHtM"
      }
    },
    {
      "cell_type": "code",
      "source": [
        "# Table expectations\n",
        "# columns\n",
        "df.expect_table_columns_to_match_ordered_list(\n",
        "    column_list=[\"id\", \"created_on\", \"title\", \"description\", \"tag\"])\n",
        "\n",
        "# data leak\n",
        "df.expect_compound_columns_to_be_unique(column_list=[\"title\", \"description\"])"
      ],
      "metadata": {
        "id": "omceOilZ_kyl"
      },
      "execution_count": null,
      "outputs": []
    },
    {
      "cell_type": "code",
      "source": [
        "# Column expectations\n",
        "# id\n",
        "df.expect_column_values_to_be_unique(column=\"id\")\n",
        "\n",
        "# created_on\n",
        "df.expect_column_values_to_not_be_null(column=\"created_on\")\n",
        "df.expect_column_values_to_match_strftime_format(\n",
        "    column=\"created_on\", strftime_format=\"%Y-%m-%d %H:%M:%S\")\n",
        "\n",
        "# title\n",
        "df.expect_column_values_to_not_be_null(column=\"title\")\n",
        "df.expect_column_values_to_be_of_type(column=\"title\", type_=\"str\")\n",
        "\n",
        "# description\n",
        "df.expect_column_values_to_not_be_null(column=\"description\")\n",
        "df.expect_column_values_to_be_of_type(column=\"description\", type_=\"str\")\n",
        "\n",
        "# tag\n",
        "df.expect_column_values_to_not_be_null(column=\"tag\")\n",
        "df.expect_column_values_to_be_of_type(column=\"tag\", type_=\"str\")"
      ],
      "metadata": {
        "id": "G8t0812lAmP9"
      },
      "execution_count": null,
      "outputs": []
    },
    {
      "cell_type": "code",
      "source": [
        "# Expectation suite\n",
        "expectation_suite = df.get_expectation_suite(discard_failed_expectations=False)\n",
        "print(df.validate(expectation_suite=expectation_suite, only_return_failures=True))"
      ],
      "metadata": {
        "id": "zov5DTPnBvo3"
      },
      "execution_count": null,
      "outputs": []
    },
    {
      "cell_type": "markdown",
      "source": [
        "### Projects\n",
        "### Checkpoints\n",
        "### Documentation\n",
        "### Production"
      ],
      "metadata": {
        "id": "1ZVywkz7CHar"
      }
    },
    {
      "cell_type": "markdown",
      "source": [
        "## Models 🤖"
      ],
      "metadata": {
        "id": "jbiPNnKwEuhc"
      }
    },
    {
      "cell_type": "markdown",
      "source": [
        "### Training"
      ],
      "metadata": {
        "id": "9u9nRV3XFGWG"
      }
    },
    {
      "cell_type": "markdown",
      "source": [
        "`assert model(inputs).shape == torch.Size([len(inputs), num_classes])`\n",
        "\n",
        "`assert epoch_loss < prev_epoch_loss`\n",
        "\n",
        "```\n",
        "accuracy = train(model, inputs=batches[0])\n",
        "assert accuracy == pytest.approx(0.95, abs=0.05) # 0.95 +- 0.05\n",
        "```\n",
        "```\n",
        "train(model)\n",
        "assert learning_rate >= min_learning_rate\n",
        "assert artifacts\n",
        "```\n",
        "```\n",
        "assert train(model, device=torch.device(\"cpu\"))\n",
        "assert train(model, device=torch.device(\"cuda\"))\n",
        "```\n",
        "\n",
        "\n",
        "\n",
        "\n"
      ],
      "metadata": {
        "id": "0UuWp3kJFd_a"
      }
    },
    {
      "cell_type": "markdown",
      "source": [
        "### Behavioral testing"
      ],
      "metadata": {
        "id": "VxMNvlkVG1-r"
      }
    },
    {
      "cell_type": "markdown",
      "source": [
        "```\n",
        "# INVariance via verb injection (changes should not affect outputs)\n",
        "tokens = [\"revolutionized\", \"disrupted\"]\n",
        "texts = [f\"Transformers applied to NLP have {token} the ML field.\" for token in tokens]\n",
        "predict.predict(texts=texts, artifacts=artifacts)\n",
        "\n",
        "# DIRectional expectations (changes with known outputs)\n",
        "tokens = [\"text classification\", \"image classification\"]\n",
        "texts = [f\"ML applied to {token}.\" for token in tokens]\n",
        "predict.predict(texts=texts, artifacts=artifacts)\n",
        "\n",
        "# Minimum Functionality Tests (simple input/output pairs)\n",
        "tokens = [\"natural language processing\", \"mlops\"]\n",
        "texts = [f\"{token} is the next big wave in machine learning.\" for token in tokens]\n",
        "predict.predict(texts=texts, artifacts=artifacts)\n",
        "```\n",
        "\n"
      ],
      "metadata": {
        "id": "F7zV2U8VHTB6"
      }
    },
    {
      "cell_type": "markdown",
      "source": [
        "### Inference"
      ],
      "metadata": {
        "id": "L-nitDYUHvci"
      }
    }
  ]
}